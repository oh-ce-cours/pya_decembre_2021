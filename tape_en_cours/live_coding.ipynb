{
 "cells": [
  {
   "cell_type": "markdown",
   "metadata": {},
   "source": [
    "# 1er jour"
   ]
  },
  {
   "cell_type": "code",
   "execution_count": 1,
   "metadata": {},
   "outputs": [
    {
     "name": "stdout",
     "output_type": "stream",
     "text": [
      "The Zen of Python, by Tim Peters\n",
      "\n",
      "Beautiful is better than ugly.\n",
      "Explicit is better than implicit.\n",
      "Simple is better than complex.\n",
      "Complex is better than complicated.\n",
      "Flat is better than nested.\n",
      "Sparse is better than dense.\n",
      "Readability counts.\n",
      "Special cases aren't special enough to break the rules.\n",
      "Although practicality beats purity.\n",
      "Errors should never pass silently.\n",
      "Unless explicitly silenced.\n",
      "In the face of ambiguity, refuse the temptation to guess.\n",
      "There should be one-- and preferably only one --obvious way to do it.\n",
      "Although that way may not be obvious at first unless you're Dutch.\n",
      "Now is better than never.\n",
      "Although never is often better than *right* now.\n",
      "If the implementation is hard to explain, it's a bad idea.\n",
      "If the implementation is easy to explain, it may be a good idea.\n",
      "Namespaces are one honking great idea -- let's do more of those!\n"
     ]
    }
   ],
   "source": [
    "import this"
   ]
  },
  {
   "cell_type": "code",
   "execution_count": 2,
   "metadata": {},
   "outputs": [
    {
     "name": "stdout",
     "output_type": "stream",
     "text": [
      "/home/mfalce/Envs/formation_python/lib64/python3.6/collections/__init__.py\n"
     ]
    }
   ],
   "source": [
    "import collections \n",
    "print(collections.__file__)"
   ]
  },
  {
   "cell_type": "code",
   "execution_count": 3,
   "metadata": {},
   "outputs": [
    {
     "ename": "AttributeError",
     "evalue": "'dict' object has no attribute '__bool__'",
     "output_type": "error",
     "traceback": [
      "\u001b[0;31m---------------------------------------------------------------------------\u001b[0m",
      "\u001b[0;31mAttributeError\u001b[0m                            Traceback (most recent call last)",
      "\u001b[0;32m<ipython-input-3-2d85c26892a7>\u001b[0m in \u001b[0;36m<module>\u001b[0;34m\u001b[0m\n\u001b[1;32m      1\u001b[0m \u001b[0mval\u001b[0m \u001b[0;34m=\u001b[0m \u001b[0;34m{\u001b[0m\u001b[0;34m}\u001b[0m\u001b[0;34m\u001b[0m\u001b[0;34m\u001b[0m\u001b[0m\n\u001b[0;32m----> 2\u001b[0;31m \u001b[0mprint\u001b[0m\u001b[0;34m(\u001b[0m\u001b[0mbool\u001b[0m\u001b[0;34m(\u001b[0m\u001b[0mval\u001b[0m\u001b[0;34m)\u001b[0m\u001b[0;34m,\u001b[0m \u001b[0mval\u001b[0m\u001b[0;34m.\u001b[0m\u001b[0m__bool__\u001b[0m\u001b[0;34m(\u001b[0m\u001b[0;34m)\u001b[0m\u001b[0;34m)\u001b[0m\u001b[0;34m\u001b[0m\u001b[0;34m\u001b[0m\u001b[0m\n\u001b[0m",
      "\u001b[0;31mAttributeError\u001b[0m: 'dict' object has no attribute '__bool__'"
     ]
    }
   ],
   "source": [
    "val = {}\n",
    "print(bool(val), val.__bool__())"
   ]
  },
  {
   "cell_type": "code",
   "execution_count": 6,
   "metadata": {},
   "outputs": [
    {
     "data": {
      "text/plain": [
       "False"
      ]
     },
     "execution_count": 6,
     "metadata": {},
     "output_type": "execute_result"
    }
   ],
   "source": [
    "a = range(1_000_000_000_000)\n",
    "-1 in a"
   ]
  },
  {
   "cell_type": "code",
   "execution_count": 8,
   "metadata": {},
   "outputs": [
    {
     "name": "stdout",
     "output_type": "stream",
     "text": [
      "suite\n"
     ]
    }
   ],
   "source": [
    "try:\n",
    "    1 / 0 \n",
    "except NameError:\n",
    "    print(\"capture\")\n",
    "except:\n",
    "    print(\"suite\")"
   ]
  },
  {
   "cell_type": "markdown",
   "metadata": {},
   "source": [
    "## Décorateurs"
   ]
  },
  {
   "cell_type": "code",
   "execution_count": 47,
   "metadata": {},
   "outputs": [
    {
     "name": "stdout",
     "output_type": "stream",
     "text": [
      "<function ma_fonction at 0x7fbf78ab0d40>\n",
      "Ma fonction\n",
      "    \n",
      "1\n",
      "on a mis 4.220008850097656e-05s\n",
      "2\n",
      "on a mis 0.0006613731384277344s\n"
     ]
    }
   ],
   "source": [
    "import time\n",
    "import functools\n",
    "\n",
    "def mon_decorateur(fonction_a_decorer):\n",
    "    @functools.wraps(fonction_a_decorer)\n",
    "    def wrapper(*args, **kwargs):\n",
    "        \"\"\"Mon wrapper\n",
    "        \"\"\"\n",
    "        tic = time.time()\n",
    "        fonction_a_decorer(*args, **kwargs)\n",
    "        print(f\"on a mis {time.time()-tic}s\")\n",
    "    return wrapper\n",
    "\n",
    "@mon_decorateur\n",
    "def ma_fonction(toto):\n",
    "    \"\"\"Ma fonction\n",
    "    \"\"\"\n",
    "    print(toto)\n",
    "\n",
    "# ou \n",
    "\n",
    "#ma_fonction = mon_decorateur(ma_fonction)\n",
    "print(ma_fonction)\n",
    "print(ma_fonction.__doc__)\n",
    "ma_fonction(1)\n",
    "ma_fonction(2)"
   ]
  },
  {
   "cell_type": "code",
   "execution_count": 14,
   "metadata": {},
   "outputs": [
    {
     "data": {
      "text/plain": [
       "12"
      ]
     },
     "execution_count": 14,
     "metadata": {},
     "output_type": "execute_result"
    }
   ],
   "source": [
    "def f(a, b):\n",
    "    return a + b\n",
    "\n",
    "def a_plus_2(a):\n",
    "    return f(a, 2)\n",
    "\n",
    "a_plus_2 = lambda a: f(a, 2)\n",
    "\n",
    "a_plus_2(10)"
   ]
  },
  {
   "cell_type": "code",
   "execution_count": 44,
   "metadata": {},
   "outputs": [],
   "source": [
    "def f(a, b, c, d, e, f):\n",
    "    print(a, b, c, d, e, f)\n",
    "\n",
    "\n",
    "#f(1, 2, 3, 4, 5, 6, b=2, c=3)"
   ]
  },
  {
   "cell_type": "code",
   "execution_count": 46,
   "metadata": {},
   "outputs": [
    {
     "name": "stdout",
     "output_type": "stream",
     "text": [
      "1 2 3 1 2 3\n",
      "1 2 3 1 2 3\n"
     ]
    }
   ],
   "source": [
    "a = [1, 2, 3]\n",
    "b = {\"d\":1, \"e\":2, \"f\":3}\n",
    "f(*a, **b)\n",
    "f(1, 2, 3, d=1, e=2, f=3)"
   ]
  },
  {
   "cell_type": "markdown",
   "metadata": {},
   "source": [
    "# Récapitulatif \n",
    "\n",
    "* environnements virtuels => modifie le `path` pour mettre le dossier spécifié en premier dans le path\n",
    "* programmation fonctionnelle\n",
    "    * fonctions d'ordre supérieur (qui prennent en paramètre et/ou retournent des fonctions) => \n",
    "    * les fonctions sont des *first class citizens* (comme des variables) \n",
    "    * décorateurs\n",
    "    * lambda\n",
    "* args / kwargs : opérateur *splat* et *double splat* \n",
    "    * à la définition de la fonction : permet d'accepter autant de paramètres positionnels et nommés que l'on veut \n",
    "    * à l'appel de la fonction : de \"dépacker\" des conteneurs (listes ou tuples) pour les paramètres positionnels et des dictionnaires pour des paramètres nommées (en gros, ça permet d'utiliser des variables directement lors des appels de fonctions). \n"
   ]
  },
  {
   "cell_type": "markdown",
   "metadata": {},
   "source": [
    "# Bibliographie \n",
    "\n",
    "* https://sametmarx.com/cours-et-tutos/\n",
    "* https://pycoders.com/\n",
    "* https://lerner.co.il/ (newsletter \"Better developpers\")\n",
    "* https://refactoring.guru/\n",
    "* https://realpython.com/"
   ]
  },
  {
   "cell_type": "code",
   "execution_count": 48,
   "metadata": {},
   "outputs": [
    {
     "data": {
      "text/plain": [
       "<function __main__.sandwich(viande)>"
      ]
     },
     "execution_count": 48,
     "metadata": {},
     "output_type": "execute_result"
    }
   ],
   "source": [
    "def mon_decorateur(param1, param2):\n",
    "    def outer_wrap(fonction_a_decorer):\n",
    "        @functools.wraps(fonction_a_decorer)\n",
    "        def wrapper(*args, **kwargs):\n",
    "            \"\"\"Mon wrapper\n",
    "            \"\"\"\n",
    "            tic = time.time()\n",
    "            fonction_a_decorer(*args, **kwargs)\n",
    "            print(f\"on a mis {time.time()-tic}s\")\n",
    "        return wrapper\n",
    "    return outer_wrap\n",
    "\n",
    "\n",
    "@mon_decorateur(\"pain\", ...)\n",
    "def sandwich(viande):\n",
    "    print(viande)\n",
    "    \n",
    "un_truc = mon_decorateur(\"pain\", ...)   \n",
    "un_truc(sandwich)"
   ]
  },
  {
   "cell_type": "code",
   "execution_count": 49,
   "metadata": {},
   "outputs": [
    {
     "ename": "SyntaxError",
     "evalue": "invalid syntax (<ipython-input-49-913678b4c4b3>, line 2)",
     "output_type": "error",
     "traceback": [
      "\u001b[0;36m  File \u001b[0;32m\"<ipython-input-49-913678b4c4b3>\"\u001b[0;36m, line \u001b[0;32m2\u001b[0m\n\u001b[0;31m    ....\u001b[0m\n\u001b[0m        ^\u001b[0m\n\u001b[0;31mSyntaxError\u001b[0m\u001b[0;31m:\u001b[0m invalid syntax\n"
     ]
    }
   ],
   "source": [
    "def deprecated(f):\n",
    "    ....\n",
    "    setattr(deprecated, \"cequejeveux\", [])\n",
    "    \n",
    "    \n",
    "@deprecated\n",
    "def f():\n",
    "    pass\n",
    "\n",
    "\n",
    "print(deprecated.cequejeveux)"
   ]
  },
  {
   "cell_type": "code",
   "execution_count": 94,
   "metadata": {},
   "outputs": [],
   "source": [
    "def deprecated(fonction_depreciee):\n",
    "    deprecated.FONCTIONS = getattr(deprecated, \"FONCTIONS\", [])\n",
    "    deprecated.FONCTIONS.append(fonction_depreciee)\n",
    "    \n",
    "    def wrapper(*args, **kwargs):\n",
    "        print(\"ATTENTION CA VA PLUS MARCHER\")\n",
    "        res = fonction_depreciee(*args, **kwargs)\n",
    "        return res\n",
    "    return wrapper\n",
    "\n",
    "@deprecated\n",
    "def f():\n",
    "    print(\"dans f\")\n",
    "    return \"toto\"\n",
    "\n",
    "@deprecated\n",
    "def g(a, b):\n",
    "    print(\"dans g\")\n",
    "    return a, b"
   ]
  },
  {
   "cell_type": "code",
   "execution_count": 95,
   "metadata": {},
   "outputs": [
    {
     "name": "stdout",
     "output_type": "stream",
     "text": [
      "ATTENTION CA VA PLUS MARCHER\n",
      "dans f\n"
     ]
    },
    {
     "data": {
      "text/plain": [
       "'toto'"
      ]
     },
     "execution_count": 95,
     "metadata": {},
     "output_type": "execute_result"
    }
   ],
   "source": [
    "f()"
   ]
  },
  {
   "cell_type": "code",
   "execution_count": 96,
   "metadata": {},
   "outputs": [
    {
     "name": "stdout",
     "output_type": "stream",
     "text": [
      "ATTENTION CA VA PLUS MARCHER\n",
      "dans g\n"
     ]
    },
    {
     "data": {
      "text/plain": [
       "(1, 2)"
      ]
     },
     "execution_count": 96,
     "metadata": {},
     "output_type": "execute_result"
    }
   ],
   "source": [
    "g(1, 2)"
   ]
  },
  {
   "cell_type": "code",
   "execution_count": 97,
   "metadata": {},
   "outputs": [
    {
     "data": {
      "text/plain": [
       "[<function __main__.f()>, <function __main__.g(a, b)>]"
      ]
     },
     "execution_count": 97,
     "metadata": {},
     "output_type": "execute_result"
    }
   ],
   "source": [
    "deprecated.FONCTIONS"
   ]
  },
  {
   "cell_type": "code",
   "execution_count": null,
   "metadata": {},
   "outputs": [],
   "source": []
  },
  {
   "cell_type": "code",
   "execution_count": 108,
   "metadata": {},
   "outputs": [],
   "source": [
    "def fib(n):\n",
    "    if n < 2:\n",
    "        return n\n",
    "    return fib(n-1) + fib(n-2)"
   ]
  },
  {
   "cell_type": "code",
   "execution_count": 113,
   "metadata": {},
   "outputs": [
    {
     "name": "stdout",
     "output_type": "stream",
     "text": [
      "1.18 s ± 13.4 ms per loop (mean ± std. dev. of 7 runs, 1 loop each)\n"
     ]
    }
   ],
   "source": [
    "%timeit fib(33)"
   ]
  },
  {
   "cell_type": "code",
   "execution_count": 117,
   "metadata": {},
   "outputs": [],
   "source": [
    "from functools import lru_cache\n",
    "\n",
    "@lru_cache(maxsize=None)\n",
    "def fib_cache(n):\n",
    "    print(n)\n",
    "    if n < 2:\n",
    "        return n\n",
    "    return fib_cache(n-1) + fib_cache(n-2)"
   ]
  },
  {
   "cell_type": "code",
   "execution_count": 115,
   "metadata": {},
   "outputs": [
    {
     "name": "stdout",
     "output_type": "stream",
     "text": [
      "93.6 ns ± 1.06 ns per loop (mean ± std. dev. of 7 runs, 10000000 loops each)\n"
     ]
    }
   ],
   "source": [
    "%timeit fib_cache(33)"
   ]
  },
  {
   "cell_type": "code",
   "execution_count": 116,
   "metadata": {},
   "outputs": [
    {
     "data": {
      "text/plain": [
       "CacheInfo(hits=81111141, misses=34, maxsize=None, currsize=34)"
      ]
     },
     "execution_count": 116,
     "metadata": {},
     "output_type": "execute_result"
    }
   ],
   "source": [
    "fib_cache.cache_info()"
   ]
  },
  {
   "cell_type": "code",
   "execution_count": 118,
   "metadata": {},
   "outputs": [
    {
     "name": "stdout",
     "output_type": "stream",
     "text": [
      "33\n",
      "32\n",
      "31\n",
      "30\n",
      "29\n",
      "28\n",
      "27\n",
      "26\n",
      "25\n",
      "24\n",
      "23\n",
      "22\n",
      "21\n",
      "20\n",
      "19\n",
      "18\n",
      "17\n",
      "16\n",
      "15\n",
      "14\n",
      "13\n",
      "12\n",
      "11\n",
      "10\n",
      "9\n",
      "8\n",
      "7\n",
      "6\n",
      "5\n",
      "4\n",
      "3\n",
      "2\n",
      "1\n",
      "0\n"
     ]
    },
    {
     "data": {
      "text/plain": [
       "3524578"
      ]
     },
     "execution_count": 118,
     "metadata": {},
     "output_type": "execute_result"
    }
   ],
   "source": [
    "fib_cache(33)"
   ]
  },
  {
   "cell_type": "code",
   "execution_count": 151,
   "metadata": {},
   "outputs": [],
   "source": [
    "def mon_cache(fonction_a_cacher):      \n",
    "    def wrapper(n):\n",
    "        if not n in wrapper.CACHE:\n",
    "            wrapper.CACHE[n] = fonction_a_cacher(n)\n",
    "        return wrapper.CACHE[n]\n",
    "    \n",
    "    wrapper.CACHE = {}\n",
    "    def clear_cache():\n",
    "        wrapper.CACHE = {}\n",
    "    wrapper.clear_cache = clear_cache\n",
    "\n",
    "    \n",
    "    return wrapper"
   ]
  },
  {
   "cell_type": "code",
   "execution_count": 152,
   "metadata": {},
   "outputs": [],
   "source": [
    "@mon_cache\n",
    "def fib_mon_cache(n):\n",
    "    if n < 2:\n",
    "        return n\n",
    "    return fib_mon_cache(n-1) + fib_mon_cache(n-2)"
   ]
  },
  {
   "cell_type": "code",
   "execution_count": 153,
   "metadata": {},
   "outputs": [
    {
     "data": {
      "text/plain": [
       "5702887"
      ]
     },
     "execution_count": 153,
     "metadata": {},
     "output_type": "execute_result"
    }
   ],
   "source": [
    "fib_mon_cache(34)"
   ]
  },
  {
   "cell_type": "code",
   "execution_count": 154,
   "metadata": {},
   "outputs": [
    {
     "name": "stdout",
     "output_type": "stream",
     "text": [
      "{1: 1, 0: 0, 2: 1, 3: 2, 4: 3, 5: 5, 6: 8, 7: 13, 8: 21, 9: 34, 10: 55, 11: 89, 12: 144, 13: 233, 14: 377, 15: 610, 16: 987, 17: 1597, 18: 2584, 19: 4181, 20: 6765, 21: 10946, 22: 17711, 23: 28657, 24: 46368, 25: 75025, 26: 121393, 27: 196418, 28: 317811, 29: 514229, 30: 832040, 31: 1346269, 32: 2178309, 33: 3524578, 34: 5702887}\n",
      "{}\n"
     ]
    }
   ],
   "source": [
    "print(fib_mon_cache.CACHE)\n",
    "fib_mon_cache.clear_cache()\n",
    "print(fib_mon_cache.CACHE)"
   ]
  },
  {
   "cell_type": "markdown",
   "metadata": {},
   "source": [
    "# Gotchas fonctions"
   ]
  },
  {
   "cell_type": "code",
   "execution_count": 177,
   "metadata": {},
   "outputs": [
    {
     "name": "stdout",
     "output_type": "stream",
     "text": [
      "[1]\n",
      "[1, 1]\n"
     ]
    }
   ],
   "source": [
    "def f(a=[]):\n",
    "    a.append(1)\n",
    "    print(a)\n",
    "\n",
    "f()\n",
    "f()"
   ]
  },
  {
   "cell_type": "code",
   "execution_count": 4,
   "metadata": {},
   "outputs": [],
   "source": [
    "def f(a=None):\n",
    "    a = a or []  # valeur que tu as OR valeur par défaut\n",
    "    print(a)"
   ]
  },
  {
   "cell_type": "code",
   "execution_count": 5,
   "metadata": {},
   "outputs": [
    {
     "name": "stdout",
     "output_type": "stream",
     "text": [
      "toto\n"
     ]
    }
   ],
   "source": [
    "# NE PAS FAIRE CA EN VRAI !!!\n",
    "def f(a=print(\"toto\")):\n",
    "    print(\"titi\")"
   ]
  },
  {
   "cell_type": "code",
   "execution_count": 6,
   "metadata": {},
   "outputs": [
    {
     "name": "stdout",
     "output_type": "stream",
     "text": [
      "titi\n"
     ]
    }
   ],
   "source": [
    "f()"
   ]
  },
  {
   "cell_type": "markdown",
   "metadata": {},
   "source": [
    "## Random digression"
   ]
  },
  {
   "cell_type": "code",
   "execution_count": 7,
   "metadata": {},
   "outputs": [
    {
     "name": "stdout",
     "output_type": "stream",
     "text": [
      "[1, 2]\n"
     ]
    }
   ],
   "source": [
    "def f(b, c, d):\n",
    "    a = [1, 2]\n",
    "    def f_(b, c, d):\n",
    "        a.append(3) # a est une closure et est modifiée \n",
    "    print(f_.__closure__[0].cell_contents)\n",
    "\n",
    "f(1, 2, 3)"
   ]
  },
  {
   "cell_type": "markdown",
   "metadata": {},
   "source": [
    "# POO"
   ]
  },
  {
   "cell_type": "markdown",
   "metadata": {},
   "source": [
    "## Méthodes magiques"
   ]
  },
  {
   "cell_type": "code",
   "execution_count": 23,
   "metadata": {},
   "outputs": [
    {
     "name": "stdout",
     "output_type": "stream",
     "text": [
      "/tmp/toto/python.c\n",
      "<class '__main__.WindowsPath'>\n"
     ]
    }
   ],
   "source": [
    "class Path():\n",
    "    def __init__(self, base_path):\n",
    "        self.path = base_path\n",
    "        \n",
    "    def __str__(self):\n",
    "        return self.path\n",
    "    \n",
    "    #def __truediv__(self, other):\n",
    "    #    return Path(self.path + \"/\" + str(other))\n",
    "\n",
    "    #def __truediv__(self, other):\n",
    "            \n",
    "    #    Klass = type(self)\n",
    "    #    return Klass(self.path + \"/\" + str(other))\n",
    "    \n",
    "    def __truediv__(self, other):\n",
    "        # on modifie l'objet en cours\n",
    "        self.path = self.path + \"/\" + str(other)\n",
    "        return self\n",
    "    \n",
    "class LinuxPath(Path):\n",
    "    pass\n",
    "\n",
    "class WindowsPath(Path):\n",
    "    pass \n",
    "    \n",
    "p = WindowsPath(\"/tmp\")\n",
    "p = ((p / \"toto\") / \"python.c\")\n",
    "print(p) # => \"/tmp/toto/python.c\"\n",
    "print(type(p))"
   ]
  },
  {
   "cell_type": "code",
   "execution_count": 18,
   "metadata": {},
   "outputs": [
    {
     "name": "stdout",
     "output_type": "stream",
     "text": [
      "print self <__main__.Exemple object at 0x7f61a18e0290>\n",
      "print e    <__main__.Exemple object at 0x7f61a18e0290>\n"
     ]
    }
   ],
   "source": [
    "class Exemple:\n",
    "    def __init__(self):\n",
    "        print(\"print self\", self)\n",
    "        \n",
    "e = Exemple()\n",
    "print(\"print e   \", e)"
   ]
  },
  {
   "cell_type": "code",
   "execution_count": 19,
   "metadata": {},
   "outputs": [
    {
     "data": {
      "text/plain": [
       "__main__.Exemple"
      ]
     },
     "execution_count": 19,
     "metadata": {},
     "output_type": "execute_result"
    }
   ],
   "source": [
    "e.__class__"
   ]
  },
  {
   "cell_type": "code",
   "execution_count": 20,
   "metadata": {},
   "outputs": [
    {
     "data": {
      "text/plain": [
       "__main__.Exemple"
      ]
     },
     "execution_count": 20,
     "metadata": {},
     "output_type": "execute_result"
    }
   ],
   "source": [
    "type(e)"
   ]
  },
  {
   "cell_type": "code",
   "execution_count": null,
   "metadata": {},
   "outputs": [],
   "source": []
  }
 ],
 "metadata": {
  "kernelspec": {
   "display_name": "Python 3",
   "language": "python",
   "name": "python3"
  },
  "language_info": {
   "codemirror_mode": {
    "name": "ipython",
    "version": 3
   },
   "file_extension": ".py",
   "mimetype": "text/x-python",
   "name": "python",
   "nbconvert_exporter": "python",
   "pygments_lexer": "ipython3",
   "version": "3.6.14"
  }
 },
 "nbformat": 4,
 "nbformat_minor": 2
}
