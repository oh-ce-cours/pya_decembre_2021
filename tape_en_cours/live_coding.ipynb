{
 "cells": [
  {
   "cell_type": "markdown",
   "metadata": {},
   "source": [
    "# 1er jour"
   ]
  },
  {
   "cell_type": "code",
   "execution_count": 1,
   "metadata": {},
   "outputs": [
    {
     "name": "stdout",
     "output_type": "stream",
     "text": [
      "The Zen of Python, by Tim Peters\n",
      "\n",
      "Beautiful is better than ugly.\n",
      "Explicit is better than implicit.\n",
      "Simple is better than complex.\n",
      "Complex is better than complicated.\n",
      "Flat is better than nested.\n",
      "Sparse is better than dense.\n",
      "Readability counts.\n",
      "Special cases aren't special enough to break the rules.\n",
      "Although practicality beats purity.\n",
      "Errors should never pass silently.\n",
      "Unless explicitly silenced.\n",
      "In the face of ambiguity, refuse the temptation to guess.\n",
      "There should be one-- and preferably only one --obvious way to do it.\n",
      "Although that way may not be obvious at first unless you're Dutch.\n",
      "Now is better than never.\n",
      "Although never is often better than *right* now.\n",
      "If the implementation is hard to explain, it's a bad idea.\n",
      "If the implementation is easy to explain, it may be a good idea.\n",
      "Namespaces are one honking great idea -- let's do more of those!\n"
     ]
    }
   ],
   "source": [
    "import this"
   ]
  },
  {
   "cell_type": "code",
   "execution_count": 2,
   "metadata": {},
   "outputs": [
    {
     "name": "stdout",
     "output_type": "stream",
     "text": [
      "/home/mfalce/Envs/formation_python/lib64/python3.6/collections/__init__.py\n"
     ]
    }
   ],
   "source": [
    "import collections \n",
    "print(collections.__file__)"
   ]
  },
  {
   "cell_type": "code",
   "execution_count": 3,
   "metadata": {},
   "outputs": [
    {
     "ename": "AttributeError",
     "evalue": "'dict' object has no attribute '__bool__'",
     "output_type": "error",
     "traceback": [
      "\u001b[0;31m---------------------------------------------------------------------------\u001b[0m",
      "\u001b[0;31mAttributeError\u001b[0m                            Traceback (most recent call last)",
      "\u001b[0;32m<ipython-input-3-2d85c26892a7>\u001b[0m in \u001b[0;36m<module>\u001b[0;34m\u001b[0m\n\u001b[1;32m      1\u001b[0m \u001b[0mval\u001b[0m \u001b[0;34m=\u001b[0m \u001b[0;34m{\u001b[0m\u001b[0;34m}\u001b[0m\u001b[0;34m\u001b[0m\u001b[0;34m\u001b[0m\u001b[0m\n\u001b[0;32m----> 2\u001b[0;31m \u001b[0mprint\u001b[0m\u001b[0;34m(\u001b[0m\u001b[0mbool\u001b[0m\u001b[0;34m(\u001b[0m\u001b[0mval\u001b[0m\u001b[0;34m)\u001b[0m\u001b[0;34m,\u001b[0m \u001b[0mval\u001b[0m\u001b[0;34m.\u001b[0m\u001b[0m__bool__\u001b[0m\u001b[0;34m(\u001b[0m\u001b[0;34m)\u001b[0m\u001b[0;34m)\u001b[0m\u001b[0;34m\u001b[0m\u001b[0;34m\u001b[0m\u001b[0m\n\u001b[0m",
      "\u001b[0;31mAttributeError\u001b[0m: 'dict' object has no attribute '__bool__'"
     ]
    }
   ],
   "source": [
    "val = {}\n",
    "print(bool(val), val.__bool__())"
   ]
  },
  {
   "cell_type": "code",
   "execution_count": 6,
   "metadata": {},
   "outputs": [
    {
     "data": {
      "text/plain": [
       "False"
      ]
     },
     "execution_count": 6,
     "metadata": {},
     "output_type": "execute_result"
    }
   ],
   "source": [
    "a = range(1_000_000_000_000)\n",
    "-1 in a"
   ]
  },
  {
   "cell_type": "code",
   "execution_count": 8,
   "metadata": {},
   "outputs": [
    {
     "name": "stdout",
     "output_type": "stream",
     "text": [
      "suite\n"
     ]
    }
   ],
   "source": [
    "try:\n",
    "    1 / 0 \n",
    "except NameError:\n",
    "    print(\"capture\")\n",
    "except:\n",
    "    print(\"suite\")"
   ]
  },
  {
   "cell_type": "markdown",
   "metadata": {},
   "source": [
    "## Décorateurs"
   ]
  },
  {
   "cell_type": "code",
   "execution_count": 47,
   "metadata": {},
   "outputs": [
    {
     "name": "stdout",
     "output_type": "stream",
     "text": [
      "<function ma_fonction at 0x7fbf78ab0d40>\n",
      "Ma fonction\n",
      "    \n",
      "1\n",
      "on a mis 4.220008850097656e-05s\n",
      "2\n",
      "on a mis 0.0006613731384277344s\n"
     ]
    }
   ],
   "source": [
    "import time\n",
    "import functools\n",
    "\n",
    "def mon_decorateur(fonction_a_decorer):\n",
    "    @functools.wraps(fonction_a_decorer)\n",
    "    def wrapper(*args, **kwargs):\n",
    "        \"\"\"Mon wrapper\n",
    "        \"\"\"\n",
    "        tic = time.time()\n",
    "        fonction_a_decorer(*args, **kwargs)\n",
    "        print(f\"on a mis {time.time()-tic}s\")\n",
    "    return wrapper\n",
    "\n",
    "@mon_decorateur\n",
    "def ma_fonction(toto):\n",
    "    \"\"\"Ma fonction\n",
    "    \"\"\"\n",
    "    print(toto)\n",
    "\n",
    "# ou \n",
    "\n",
    "#ma_fonction = mon_decorateur(ma_fonction)\n",
    "print(ma_fonction)\n",
    "print(ma_fonction.__doc__)\n",
    "ma_fonction(1)\n",
    "ma_fonction(2)"
   ]
  },
  {
   "cell_type": "code",
   "execution_count": 14,
   "metadata": {},
   "outputs": [
    {
     "data": {
      "text/plain": [
       "12"
      ]
     },
     "execution_count": 14,
     "metadata": {},
     "output_type": "execute_result"
    }
   ],
   "source": [
    "def f(a, b):\n",
    "    return a + b\n",
    "\n",
    "def a_plus_2(a):\n",
    "    return f(a, 2)\n",
    "\n",
    "a_plus_2 = lambda a: f(a, 2)\n",
    "\n",
    "a_plus_2(10)"
   ]
  },
  {
   "cell_type": "code",
   "execution_count": 44,
   "metadata": {},
   "outputs": [],
   "source": [
    "def f(a, b, c, d, e, f):\n",
    "    print(a, b, c, d, e, f)\n",
    "\n",
    "\n",
    "#f(1, 2, 3, 4, 5, 6, b=2, c=3)"
   ]
  },
  {
   "cell_type": "code",
   "execution_count": 46,
   "metadata": {},
   "outputs": [
    {
     "name": "stdout",
     "output_type": "stream",
     "text": [
      "1 2 3 1 2 3\n",
      "1 2 3 1 2 3\n"
     ]
    }
   ],
   "source": [
    "a = [1, 2, 3]\n",
    "b = {\"d\":1, \"e\":2, \"f\":3}\n",
    "f(*a, **b)\n",
    "f(1, 2, 3, d=1, e=2, f=3)"
   ]
  },
  {
   "cell_type": "markdown",
   "metadata": {},
   "source": [
    "# Récapitulatif \n",
    "\n",
    "* environnements virtuels => modifie le `path` pour mettre le dossier spécifié en premier dans le path\n",
    "* programmation fonctionnelle\n",
    "    * fonctions d'ordre supérieur (qui prennent en paramètre et/ou retournent des fonctions) => \n",
    "    * les fonctions sont des *first class citizens* (comme des variables) \n",
    "    * décorateurs\n",
    "* args / kwargs : opérateur *splat* et *double splat* \n",
    "    * à la définition de la fonction : permet d'accepter autant de paramètres positionnels et nommés que l'on veut \n",
    "    * à l'appel de la fonction : de \"dépacker\" des conteneurs (listes ou tuples) pour les paramètres positionnels et des dictionnaires pour des par \n"
   ]
  },
  {
   "cell_type": "markdown",
   "metadata": {},
   "source": [
    "# Bibliographie \n",
    "\n",
    "* https://sametmarx.com/cours-et-tutos/\n",
    "* https://pycoders.com/\n",
    "* https://lerner.co.il/ (newsletter \"Better developpers\")\n",
    "* https://refactoring.guru/\n",
    "* https://realpython.com/"
   ]
  },
  {
   "cell_type": "code",
   "execution_count": null,
   "metadata": {},
   "outputs": [],
   "source": []
  }
 ],
 "metadata": {
  "kernelspec": {
   "display_name": "Python 3",
   "language": "python",
   "name": "python3"
  },
  "language_info": {
   "codemirror_mode": {
    "name": "ipython",
    "version": 3
   },
   "file_extension": ".py",
   "mimetype": "text/x-python",
   "name": "python",
   "nbconvert_exporter": "python",
   "pygments_lexer": "ipython3",
   "version": "3.6.14"
  }
 },
 "nbformat": 4,
 "nbformat_minor": 2
}
